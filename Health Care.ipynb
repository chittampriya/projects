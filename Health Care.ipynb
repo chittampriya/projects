{
 "cells": [
  {
   "cell_type": "code",
   "execution_count": 1,
   "id": "fab5859f-005b-4c43-9dae-8faa5ecd6a5f",
   "metadata": {},
   "outputs": [],
   "source": [
    "import numpy as np\n",
    "import pandas as pd\n",
    "import matplotlib.pyplot as plt\n",
    "import seaborn as sns"
   ]
  },
  {
   "cell_type": "code",
   "execution_count": 3,
   "id": "b9508317-411b-467f-bd12-7f3a30efdb0c",
   "metadata": {},
   "outputs": [],
   "source": [
    "data=pd.read_csv(\"D:projects/dataset/healthcare_dataset.csv\")"
   ]
  },
  {
   "cell_type": "code",
   "execution_count": 5,
   "id": "5626e58e-75a7-4b89-a17d-5d94cc0baaee",
   "metadata": {},
   "outputs": [
    {
     "data": {
      "text/plain": [
       "Name                  0\n",
       "Age                   0\n",
       "Gender                0\n",
       "Blood Type            0\n",
       "Medical Condition     0\n",
       "Date of Admission     0\n",
       "Doctor                0\n",
       "Hospital              0\n",
       "Insurance Provider    0\n",
       "Billing Amount        0\n",
       "Room Number           0\n",
       "Admission Type        0\n",
       "Discharge Date        0\n",
       "Medication            0\n",
       "Test Results          0\n",
       "dtype: int64"
      ]
     },
     "execution_count": 5,
     "metadata": {},
     "output_type": "execute_result"
    }
   ],
   "source": [
    "data.isnull().sum()"
   ]
  },
  {
   "cell_type": "code",
   "execution_count": 6,
   "id": "824bed30-61e7-4c7a-8889-7c4a8cb79763",
   "metadata": {},
   "outputs": [
    {
     "data": {
      "text/html": [
       "<div>\n",
       "<style scoped>\n",
       "    .dataframe tbody tr th:only-of-type {\n",
       "        vertical-align: middle;\n",
       "    }\n",
       "\n",
       "    .dataframe tbody tr th {\n",
       "        vertical-align: top;\n",
       "    }\n",
       "\n",
       "    .dataframe thead th {\n",
       "        text-align: right;\n",
       "    }\n",
       "</style>\n",
       "<table border=\"1\" class=\"dataframe\">\n",
       "  <thead>\n",
       "    <tr style=\"text-align: right;\">\n",
       "      <th></th>\n",
       "      <th>Name</th>\n",
       "      <th>Age</th>\n",
       "      <th>Gender</th>\n",
       "      <th>Blood Type</th>\n",
       "      <th>Medical Condition</th>\n",
       "      <th>Date of Admission</th>\n",
       "      <th>Doctor</th>\n",
       "      <th>Hospital</th>\n",
       "      <th>Insurance Provider</th>\n",
       "      <th>Billing Amount</th>\n",
       "      <th>Room Number</th>\n",
       "      <th>Admission Type</th>\n",
       "      <th>Discharge Date</th>\n",
       "      <th>Medication</th>\n",
       "      <th>Test Results</th>\n",
       "    </tr>\n",
       "  </thead>\n",
       "  <tbody>\n",
       "    <tr>\n",
       "      <th>0</th>\n",
       "      <td>Bobby JacksOn</td>\n",
       "      <td>30</td>\n",
       "      <td>Male</td>\n",
       "      <td>B-</td>\n",
       "      <td>Cancer</td>\n",
       "      <td>2024-01-31</td>\n",
       "      <td>Matthew Smith</td>\n",
       "      <td>Sons and Miller</td>\n",
       "      <td>Blue Cross</td>\n",
       "      <td>18856.281306</td>\n",
       "      <td>328</td>\n",
       "      <td>Urgent</td>\n",
       "      <td>2024-02-02</td>\n",
       "      <td>Paracetamol</td>\n",
       "      <td>Normal</td>\n",
       "    </tr>\n",
       "    <tr>\n",
       "      <th>1</th>\n",
       "      <td>LesLie TErRy</td>\n",
       "      <td>62</td>\n",
       "      <td>Male</td>\n",
       "      <td>A+</td>\n",
       "      <td>Obesity</td>\n",
       "      <td>2019-08-20</td>\n",
       "      <td>Samantha Davies</td>\n",
       "      <td>Kim Inc</td>\n",
       "      <td>Medicare</td>\n",
       "      <td>33643.327287</td>\n",
       "      <td>265</td>\n",
       "      <td>Emergency</td>\n",
       "      <td>2019-08-26</td>\n",
       "      <td>Ibuprofen</td>\n",
       "      <td>Inconclusive</td>\n",
       "    </tr>\n",
       "    <tr>\n",
       "      <th>2</th>\n",
       "      <td>DaNnY sMitH</td>\n",
       "      <td>76</td>\n",
       "      <td>Female</td>\n",
       "      <td>A-</td>\n",
       "      <td>Obesity</td>\n",
       "      <td>2022-09-22</td>\n",
       "      <td>Tiffany Mitchell</td>\n",
       "      <td>Cook PLC</td>\n",
       "      <td>Aetna</td>\n",
       "      <td>27955.096079</td>\n",
       "      <td>205</td>\n",
       "      <td>Emergency</td>\n",
       "      <td>2022-10-07</td>\n",
       "      <td>Aspirin</td>\n",
       "      <td>Normal</td>\n",
       "    </tr>\n",
       "    <tr>\n",
       "      <th>3</th>\n",
       "      <td>andrEw waTtS</td>\n",
       "      <td>28</td>\n",
       "      <td>Female</td>\n",
       "      <td>O+</td>\n",
       "      <td>Diabetes</td>\n",
       "      <td>2020-11-18</td>\n",
       "      <td>Kevin Wells</td>\n",
       "      <td>Hernandez Rogers and Vang,</td>\n",
       "      <td>Medicare</td>\n",
       "      <td>37909.782410</td>\n",
       "      <td>450</td>\n",
       "      <td>Elective</td>\n",
       "      <td>2020-12-18</td>\n",
       "      <td>Ibuprofen</td>\n",
       "      <td>Abnormal</td>\n",
       "    </tr>\n",
       "    <tr>\n",
       "      <th>4</th>\n",
       "      <td>adrIENNE bEll</td>\n",
       "      <td>43</td>\n",
       "      <td>Female</td>\n",
       "      <td>AB+</td>\n",
       "      <td>Cancer</td>\n",
       "      <td>2022-09-19</td>\n",
       "      <td>Kathleen Hanna</td>\n",
       "      <td>White-White</td>\n",
       "      <td>Aetna</td>\n",
       "      <td>14238.317814</td>\n",
       "      <td>458</td>\n",
       "      <td>Urgent</td>\n",
       "      <td>2022-10-09</td>\n",
       "      <td>Penicillin</td>\n",
       "      <td>Abnormal</td>\n",
       "    </tr>\n",
       "  </tbody>\n",
       "</table>\n",
       "</div>"
      ],
      "text/plain": [
       "            Name  Age  Gender Blood Type Medical Condition Date of Admission  \\\n",
       "0  Bobby JacksOn   30    Male         B-            Cancer        2024-01-31   \n",
       "1   LesLie TErRy   62    Male         A+           Obesity        2019-08-20   \n",
       "2    DaNnY sMitH   76  Female         A-           Obesity        2022-09-22   \n",
       "3   andrEw waTtS   28  Female         O+          Diabetes        2020-11-18   \n",
       "4  adrIENNE bEll   43  Female        AB+            Cancer        2022-09-19   \n",
       "\n",
       "             Doctor                    Hospital Insurance Provider  \\\n",
       "0     Matthew Smith             Sons and Miller         Blue Cross   \n",
       "1   Samantha Davies                     Kim Inc           Medicare   \n",
       "2  Tiffany Mitchell                    Cook PLC              Aetna   \n",
       "3       Kevin Wells  Hernandez Rogers and Vang,           Medicare   \n",
       "4    Kathleen Hanna                 White-White              Aetna   \n",
       "\n",
       "   Billing Amount  Room Number Admission Type Discharge Date   Medication  \\\n",
       "0    18856.281306          328         Urgent     2024-02-02  Paracetamol   \n",
       "1    33643.327287          265      Emergency     2019-08-26    Ibuprofen   \n",
       "2    27955.096079          205      Emergency     2022-10-07      Aspirin   \n",
       "3    37909.782410          450       Elective     2020-12-18    Ibuprofen   \n",
       "4    14238.317814          458         Urgent     2022-10-09   Penicillin   \n",
       "\n",
       "   Test Results  \n",
       "0        Normal  \n",
       "1  Inconclusive  \n",
       "2        Normal  \n",
       "3      Abnormal  \n",
       "4      Abnormal  "
      ]
     },
     "execution_count": 6,
     "metadata": {},
     "output_type": "execute_result"
    }
   ],
   "source": [
    "data.head()"
   ]
  },
  {
   "cell_type": "code",
   "execution_count": 7,
   "id": "9c537259-a6bc-42aa-8b67-ef2dcf5ba42b",
   "metadata": {},
   "outputs": [
    {
     "data": {
      "text/html": [
       "<div>\n",
       "<style scoped>\n",
       "    .dataframe tbody tr th:only-of-type {\n",
       "        vertical-align: middle;\n",
       "    }\n",
       "\n",
       "    .dataframe tbody tr th {\n",
       "        vertical-align: top;\n",
       "    }\n",
       "\n",
       "    .dataframe thead th {\n",
       "        text-align: right;\n",
       "    }\n",
       "</style>\n",
       "<table border=\"1\" class=\"dataframe\">\n",
       "  <thead>\n",
       "    <tr style=\"text-align: right;\">\n",
       "      <th></th>\n",
       "      <th>Name</th>\n",
       "      <th>Age</th>\n",
       "      <th>Gender</th>\n",
       "      <th>Blood Type</th>\n",
       "      <th>Medical Condition</th>\n",
       "      <th>Date of Admission</th>\n",
       "      <th>Doctor</th>\n",
       "      <th>Hospital</th>\n",
       "      <th>Insurance Provider</th>\n",
       "      <th>Billing Amount</th>\n",
       "      <th>Room Number</th>\n",
       "      <th>Admission Type</th>\n",
       "      <th>Discharge Date</th>\n",
       "      <th>Medication</th>\n",
       "      <th>Test Results</th>\n",
       "    </tr>\n",
       "  </thead>\n",
       "  <tbody>\n",
       "    <tr>\n",
       "      <th>55495</th>\n",
       "      <td>eLIZABeTH jaCkSOn</td>\n",
       "      <td>42</td>\n",
       "      <td>Female</td>\n",
       "      <td>O+</td>\n",
       "      <td>Asthma</td>\n",
       "      <td>2020-08-16</td>\n",
       "      <td>Joshua Jarvis</td>\n",
       "      <td>Jones-Thompson</td>\n",
       "      <td>Blue Cross</td>\n",
       "      <td>2650.714952</td>\n",
       "      <td>417</td>\n",
       "      <td>Elective</td>\n",
       "      <td>2020-09-15</td>\n",
       "      <td>Penicillin</td>\n",
       "      <td>Abnormal</td>\n",
       "    </tr>\n",
       "    <tr>\n",
       "      <th>55496</th>\n",
       "      <td>KYle pEREz</td>\n",
       "      <td>61</td>\n",
       "      <td>Female</td>\n",
       "      <td>AB-</td>\n",
       "      <td>Obesity</td>\n",
       "      <td>2020-01-23</td>\n",
       "      <td>Taylor Sullivan</td>\n",
       "      <td>Tucker-Moyer</td>\n",
       "      <td>Cigna</td>\n",
       "      <td>31457.797307</td>\n",
       "      <td>316</td>\n",
       "      <td>Elective</td>\n",
       "      <td>2020-02-01</td>\n",
       "      <td>Aspirin</td>\n",
       "      <td>Normal</td>\n",
       "    </tr>\n",
       "    <tr>\n",
       "      <th>55497</th>\n",
       "      <td>HEATher WaNG</td>\n",
       "      <td>38</td>\n",
       "      <td>Female</td>\n",
       "      <td>B+</td>\n",
       "      <td>Hypertension</td>\n",
       "      <td>2020-07-13</td>\n",
       "      <td>Joe Jacobs DVM</td>\n",
       "      <td>and Mahoney Johnson Vasquez,</td>\n",
       "      <td>UnitedHealthcare</td>\n",
       "      <td>27620.764717</td>\n",
       "      <td>347</td>\n",
       "      <td>Urgent</td>\n",
       "      <td>2020-08-10</td>\n",
       "      <td>Ibuprofen</td>\n",
       "      <td>Abnormal</td>\n",
       "    </tr>\n",
       "    <tr>\n",
       "      <th>55498</th>\n",
       "      <td>JENniFER JOneS</td>\n",
       "      <td>43</td>\n",
       "      <td>Male</td>\n",
       "      <td>O-</td>\n",
       "      <td>Arthritis</td>\n",
       "      <td>2019-05-25</td>\n",
       "      <td>Kimberly Curry</td>\n",
       "      <td>Jackson Todd and Castro,</td>\n",
       "      <td>Medicare</td>\n",
       "      <td>32451.092358</td>\n",
       "      <td>321</td>\n",
       "      <td>Elective</td>\n",
       "      <td>2019-05-31</td>\n",
       "      <td>Ibuprofen</td>\n",
       "      <td>Abnormal</td>\n",
       "    </tr>\n",
       "    <tr>\n",
       "      <th>55499</th>\n",
       "      <td>jAMES GARCiA</td>\n",
       "      <td>53</td>\n",
       "      <td>Female</td>\n",
       "      <td>O+</td>\n",
       "      <td>Arthritis</td>\n",
       "      <td>2024-04-02</td>\n",
       "      <td>Dennis Warren</td>\n",
       "      <td>Henry Sons and</td>\n",
       "      <td>Aetna</td>\n",
       "      <td>4010.134172</td>\n",
       "      <td>448</td>\n",
       "      <td>Urgent</td>\n",
       "      <td>2024-04-29</td>\n",
       "      <td>Ibuprofen</td>\n",
       "      <td>Abnormal</td>\n",
       "    </tr>\n",
       "  </tbody>\n",
       "</table>\n",
       "</div>"
      ],
      "text/plain": [
       "                    Name  Age  Gender Blood Type Medical Condition  \\\n",
       "55495  eLIZABeTH jaCkSOn   42  Female         O+            Asthma   \n",
       "55496         KYle pEREz   61  Female        AB-           Obesity   \n",
       "55497       HEATher WaNG   38  Female         B+      Hypertension   \n",
       "55498     JENniFER JOneS   43    Male         O-         Arthritis   \n",
       "55499       jAMES GARCiA   53  Female         O+         Arthritis   \n",
       "\n",
       "      Date of Admission           Doctor                      Hospital  \\\n",
       "55495        2020-08-16    Joshua Jarvis                Jones-Thompson   \n",
       "55496        2020-01-23  Taylor Sullivan                  Tucker-Moyer   \n",
       "55497        2020-07-13   Joe Jacobs DVM  and Mahoney Johnson Vasquez,   \n",
       "55498        2019-05-25   Kimberly Curry      Jackson Todd and Castro,   \n",
       "55499        2024-04-02    Dennis Warren                Henry Sons and   \n",
       "\n",
       "      Insurance Provider  Billing Amount  Room Number Admission Type  \\\n",
       "55495         Blue Cross     2650.714952          417       Elective   \n",
       "55496              Cigna    31457.797307          316       Elective   \n",
       "55497   UnitedHealthcare    27620.764717          347         Urgent   \n",
       "55498           Medicare    32451.092358          321       Elective   \n",
       "55499              Aetna     4010.134172          448         Urgent   \n",
       "\n",
       "      Discharge Date  Medication Test Results  \n",
       "55495     2020-09-15  Penicillin     Abnormal  \n",
       "55496     2020-02-01     Aspirin       Normal  \n",
       "55497     2020-08-10   Ibuprofen     Abnormal  \n",
       "55498     2019-05-31   Ibuprofen     Abnormal  \n",
       "55499     2024-04-29   Ibuprofen     Abnormal  "
      ]
     },
     "execution_count": 7,
     "metadata": {},
     "output_type": "execute_result"
    }
   ],
   "source": [
    "data.tail()"
   ]
  },
  {
   "cell_type": "code",
   "execution_count": 8,
   "id": "1f1220c5-d00b-4ef9-97fa-58f75acd2012",
   "metadata": {},
   "outputs": [
    {
     "name": "stdout",
     "output_type": "stream",
     "text": [
      "<class 'pandas.core.frame.DataFrame'>\n",
      "RangeIndex: 55500 entries, 0 to 55499\n",
      "Data columns (total 15 columns):\n",
      " #   Column              Non-Null Count  Dtype  \n",
      "---  ------              --------------  -----  \n",
      " 0   Name                55500 non-null  object \n",
      " 1   Age                 55500 non-null  int64  \n",
      " 2   Gender              55500 non-null  object \n",
      " 3   Blood Type          55500 non-null  object \n",
      " 4   Medical Condition   55500 non-null  object \n",
      " 5   Date of Admission   55500 non-null  object \n",
      " 6   Doctor              55500 non-null  object \n",
      " 7   Hospital            55500 non-null  object \n",
      " 8   Insurance Provider  55500 non-null  object \n",
      " 9   Billing Amount      55500 non-null  float64\n",
      " 10  Room Number         55500 non-null  int64  \n",
      " 11  Admission Type      55500 non-null  object \n",
      " 12  Discharge Date      55500 non-null  object \n",
      " 13  Medication          55500 non-null  object \n",
      " 14  Test Results        55500 non-null  object \n",
      "dtypes: float64(1), int64(2), object(12)\n",
      "memory usage: 6.4+ MB\n"
     ]
    }
   ],
   "source": [
    "data.info()"
   ]
  },
  {
   "cell_type": "code",
   "execution_count": 9,
   "id": "79438237-26b7-4a72-86e9-e45695fa5d16",
   "metadata": {},
   "outputs": [
    {
     "data": {
      "text/html": [
       "<div>\n",
       "<style scoped>\n",
       "    .dataframe tbody tr th:only-of-type {\n",
       "        vertical-align: middle;\n",
       "    }\n",
       "\n",
       "    .dataframe tbody tr th {\n",
       "        vertical-align: top;\n",
       "    }\n",
       "\n",
       "    .dataframe thead th {\n",
       "        text-align: right;\n",
       "    }\n",
       "</style>\n",
       "<table border=\"1\" class=\"dataframe\">\n",
       "  <thead>\n",
       "    <tr style=\"text-align: right;\">\n",
       "      <th></th>\n",
       "      <th>Age</th>\n",
       "      <th>Billing Amount</th>\n",
       "      <th>Room Number</th>\n",
       "    </tr>\n",
       "  </thead>\n",
       "  <tbody>\n",
       "    <tr>\n",
       "      <th>count</th>\n",
       "      <td>55500.000000</td>\n",
       "      <td>55500.000000</td>\n",
       "      <td>55500.000000</td>\n",
       "    </tr>\n",
       "    <tr>\n",
       "      <th>mean</th>\n",
       "      <td>51.539459</td>\n",
       "      <td>25539.316097</td>\n",
       "      <td>301.134829</td>\n",
       "    </tr>\n",
       "    <tr>\n",
       "      <th>std</th>\n",
       "      <td>19.602454</td>\n",
       "      <td>14211.454431</td>\n",
       "      <td>115.243069</td>\n",
       "    </tr>\n",
       "    <tr>\n",
       "      <th>min</th>\n",
       "      <td>13.000000</td>\n",
       "      <td>-2008.492140</td>\n",
       "      <td>101.000000</td>\n",
       "    </tr>\n",
       "    <tr>\n",
       "      <th>25%</th>\n",
       "      <td>35.000000</td>\n",
       "      <td>13241.224652</td>\n",
       "      <td>202.000000</td>\n",
       "    </tr>\n",
       "    <tr>\n",
       "      <th>50%</th>\n",
       "      <td>52.000000</td>\n",
       "      <td>25538.069376</td>\n",
       "      <td>302.000000</td>\n",
       "    </tr>\n",
       "    <tr>\n",
       "      <th>75%</th>\n",
       "      <td>68.000000</td>\n",
       "      <td>37820.508436</td>\n",
       "      <td>401.000000</td>\n",
       "    </tr>\n",
       "    <tr>\n",
       "      <th>max</th>\n",
       "      <td>89.000000</td>\n",
       "      <td>52764.276736</td>\n",
       "      <td>500.000000</td>\n",
       "    </tr>\n",
       "  </tbody>\n",
       "</table>\n",
       "</div>"
      ],
      "text/plain": [
       "                Age  Billing Amount   Room Number\n",
       "count  55500.000000    55500.000000  55500.000000\n",
       "mean      51.539459    25539.316097    301.134829\n",
       "std       19.602454    14211.454431    115.243069\n",
       "min       13.000000    -2008.492140    101.000000\n",
       "25%       35.000000    13241.224652    202.000000\n",
       "50%       52.000000    25538.069376    302.000000\n",
       "75%       68.000000    37820.508436    401.000000\n",
       "max       89.000000    52764.276736    500.000000"
      ]
     },
     "execution_count": 9,
     "metadata": {},
     "output_type": "execute_result"
    }
   ],
   "source": [
    "data.describe()"
   ]
  },
  {
   "cell_type": "code",
   "execution_count": 10,
   "id": "d9526142-1cc3-46de-b332-a3ca90c53ef5",
   "metadata": {},
   "outputs": [
    {
     "data": {
      "text/plain": [
       "(55500, 15)"
      ]
     },
     "execution_count": 10,
     "metadata": {},
     "output_type": "execute_result"
    }
   ],
   "source": [
    "data.shape"
   ]
  },
  {
   "cell_type": "code",
   "execution_count": 47,
   "id": "5e268c50-9028-41b3-bb4a-f9063bf317e5",
   "metadata": {},
   "outputs": [
    {
     "name": "stderr",
     "output_type": "stream",
     "text": [
      "No artists with labels found to put in legend.  Note that artists whose label start with an underscore are ignored when legend() is called with no argument.\n"
     ]
    },
    {
     "data": {
      "image/png": "[encoded data removed]",
      "text/plain": [
       "<Figure size 1000x600 with 1 Axes>"
      ]
     },
     "metadata": {},
     "output_type": "display_data"
    }
   ],
   "source": [
    "#1.How does the distribution of patient ages vary by gender?\n",
    "\n",
    "#plt.figure(figsize=(10,6))\n",
    "sns.histplot(data=data, x='Age',hue='Gender', multiple='dodge', bins=20)\n",
    "plt.title('Distribution of Patient Ages by Gender')\n",
    "plt.xlabel('Age')\n",
    "plt.ylabel('Count')\n",
    "plt.legend(title='Gender')\n",
    "plt.show()\n"
   ]
  },
  {
   "cell_type": "code",
   "execution_count": 62,
   "id": "5901d1fe-b4a8-4296-8577-22de55b55646",
   "metadata": {},
   "outputs": [
    {
     "name": "stdout",
     "output_type": "stream",
     "text": [
      "Medical Condition\n",
      "Arthritis       25497.327056\n",
      "Asthma          25635.249359\n",
      "Cancer          25161.792707\n",
      "Diabetes        25638.405577\n",
      "Hypertension    25497.095761\n",
      "Obesity         25805.971259\n",
      "Name: Billing Amount, dtype: float64\n"
     ]
    },
    {
     "data": {
      "text/plain": [
       "Text(0, 0.5, 'Average Billing Amount')"
      ]
     },
     "execution_count": 62,
     "metadata": {},
     "output_type": "execute_result"
    },
    {
     "data": {
      "image/png": "[encoded data removed]",
      "text/plain": [
       "<Figure size 640x480 with 1 Axes>"
      ]
     },
     "metadata": {},
     "output_type": "display_data"
    }
   ],
   "source": [
    "#2.\tHow does the average billing amount differ by medical condition?\n",
    "\n",
    "average_billing = data.groupby('Medical Condition')['Billing Amount'].mean()\n",
    "print(average_billing)\n",
    "\n",
    "\n",
    "#plt.figure(figsize=(10,6))\n",
    "sns.barplot(data=data, x='Medical Condition', y='Billing Amount')\n",
    "plt.title('Average Billing Amount by Medical Condition')\n",
    "plt.xlabel('Medical Condition')\n",
    "plt.ylabel('Average Billing Amount')"
   ]
  },
  {
   "cell_type": "code",
   "execution_count": 58,
   "id": "3c7d8b67-d80f-43ad-b1ed-3088160f2797",
   "metadata": {},
   "outputs": [
    {
     "name": "stdout",
     "output_type": "stream",
     "text": [
      "Blood Type\n",
      "A-     6969\n",
      "A+     6956\n",
      "AB+    6947\n",
      "AB-    6945\n",
      "B+     6945\n",
      "B-     6944\n",
      "O+     6917\n",
      "O-     6877\n",
      "Name: count, dtype: int64\n"
     ]
    }
   ],
   "source": [
    "#3.\tWhat is the distribution of blood types among patients?\n",
    "\n",
    "blood_type= data['Blood Type'].value_counts()\n",
    "print(blood_type)\n"
   ]
  },
  {
   "cell_type": "code",
   "execution_count": 118,
   "id": "6bcb8250-bb96-4d58-9a2c-89d039cfb9d8",
   "metadata": {},
   "outputs": [
    {
     "name": "stdout",
     "output_type": "stream",
     "text": [
      "  Admission Type  length_of_stay\n",
      "0       Elective       15.525328\n",
      "1      Emergency       15.595052\n",
      "2         Urgent       15.408000\n"
     ]
    }
   ],
   "source": [
    "#4.\tHow does the length of stay (discharge date - admission date) vary by admission type?\n",
    "\n",
    "data['Date of Admission'] = pd.to_datetime(data['Date of Admission'])\n",
    "data['Discharge Date'] = pd.to_datetime(data['Discharge Date'])\n",
    "\n",
    "# Calculate length of stay\n",
    "data['length_of_stay'] = (data['Discharge Date'] - data['Date of Admission']).dt.days\n",
    "\n",
    "average = data.groupby('Admission Type')['length_of_stay'].mean().reset_index()\n",
    "print(average)\n",
    "\n"
   ]
  },
  {
   "cell_type": "code",
   "execution_count": 81,
   "id": "a1b931ff-7f9c-4462-8a47-0128e45ef2c7",
   "metadata": {},
   "outputs": [
    {
     "name": "stdout",
     "output_type": "stream",
     "text": [
      "                     Doctor  count\n",
      "0             Michael Smith     27\n",
      "1              Robert Smith     22\n",
      "2                John Smith     22\n",
      "3           Michael Johnson     20\n",
      "4               James Smith     20\n",
      "...                     ...    ...\n",
      "40336  Audrey Zimmerman DDS      1\n",
      "40337          Justin Banks      1\n",
      "40338   Joseph Williams Jr.      1\n",
      "40339        Jason Franklin      1\n",
      "40340         Jeffrey Moore      1\n",
      "\n",
      "[40341 rows x 2 columns]\n"
     ]
    }
   ],
   "source": [
    "#5.\tWhich doctors have the highest number of patient admissions?\n",
    "\n",
    "admission_counts = data['Doctor'].value_counts().reset_index()\n",
    "print(admission_counts)"
   ]
  },
  {
   "cell_type": "code",
   "execution_count": 83,
   "id": "a9227076-d4e6-493a-b646-af95d7205f8b",
   "metadata": {},
   "outputs": [
    {
     "name": "stdout",
     "output_type": "stream",
     "text": [
      "  Insurance Provider  Billing Amount\n",
      "0              Aetna    25553.294506\n",
      "1         Blue Cross    25613.011503\n",
      "2              Cigna    25525.766314\n",
      "3           Medicare    25615.990508\n",
      "4   UnitedHealthcare    25389.172390\n"
     ]
    }
   ],
   "source": [
    "#6.\tWhat is the average billing amount for each insurance provider?\n",
    "\n",
    "average_billing = data.groupby('Insurance Provider')['Billing Amount'].mean().reset_index()\n",
    "print(average_billing)"
   ]
  },
  {
   "cell_type": "code",
   "execution_count": 84,
   "id": "7d9f1fa4-5434-484e-9270-e282eadb9e03",
   "metadata": {},
   "outputs": [
    {
     "name": "stdout",
     "output_type": "stream",
     "text": [
      "  Admission Type  length_of_stay\n",
      "0       Elective       15.525328\n",
      "1      Emergency       15.595052\n",
      "2         Urgent       15.408000\n"
     ]
    }
   ],
   "source": [
    "#7.\tHow does the average length of stay differ by medical condition?\n",
    "\n",
    "data['Date of Admission'] = pd.to_datetime(data['Date of Admission'])\n",
    "data['Discharge Date'] = pd.to_datetime(data['Discharge Date'])\n",
    "\n",
    "# Calculate length of stay\n",
    "data['length_of_stay'] = (data['Discharge Date'] - data['Date of Admission']).dt.days\n",
    "\n",
    "condition= data.groupby('Medical Condition')['length_of_stay'].mean().reset_index()\n",
    "print(average)"
   ]
  },
  {
   "cell_type": "code",
   "execution_count": 85,
   "id": "70e11e2c-65af-4891-aeac-d3ca7ef24de4",
   "metadata": {},
   "outputs": [
    {
     "name": "stdout",
     "output_type": "stream",
     "text": [
      "    Medication  count\n",
      "0      Lipitor  11140\n",
      "1    Ibuprofen  11127\n",
      "2      Aspirin  11094\n",
      "3  Paracetamol  11071\n",
      "4   Penicillin  11068\n"
     ]
    }
   ],
   "source": [
    "#8.\tWhat are the most frequently prescribed medications?\n",
    "\n",
    "medication_counts = data['Medication'].value_counts().reset_index()\n",
    "print(medication_counts)"
   ]
  },
  {
   "cell_type": "code",
   "execution_count": 90,
   "id": "de938f93-62fd-44f0-8c28-5e2de43e9a7f",
   "metadata": {},
   "outputs": [
    {
     "name": "stdout",
     "output_type": "stream",
     "text": [
      "  Medical Condition count unique       top  freq\n",
      "0         Arthritis  9308      3  Abnormal  3188\n",
      "1            Asthma  9185      3    Normal  3147\n",
      "2            Cancer  9227      3  Abnormal  3118\n",
      "3          Diabetes  9304      3  Abnormal  3168\n",
      "4      Hypertension  9245      3    Normal  3142\n",
      "5           Obesity  9231      3  Abnormal  3132\n"
     ]
    }
   ],
   "source": [
    "#9.\tHow does the distribution of test results vary by medical condition?\n",
    "\n",
    "test_distribution = data.groupby('Medical Condition')['Test Results'].describe().reset_index()\n",
    "print(test_distribution)"
   ]
  },
  {
   "cell_type": "code",
   "execution_count": 93,
   "id": "d4d93d0d-953d-49c5-9925-2340cb11b8ba",
   "metadata": {},
   "outputs": [
    {
     "name": "stdout",
     "output_type": "stream",
     "text": [
      "Correlation between patient age and billing amount: -0.0038319421186176665\n"
     ]
    }
   ],
   "source": [
    "#10.What is the correlation between patient age and billing amount?\n",
    "correlation = data['Age'].corr(data['Billing Amount'])\n",
    "print(f'Correlation between patient age and billing amount: {correlation}')"
   ]
  },
  {
   "cell_type": "code",
   "execution_count": 94,
   "id": "cac5ea51-4c30-4a2f-a956-43ccfddfdc78",
   "metadata": {},
   "outputs": [
    {
     "name": "stdout",
     "output_type": "stream",
     "text": [
      "   Gender  Billing Amount\n",
      "0  Female    25470.652958\n",
      "1    Male    25607.860571\n"
     ]
    }
   ],
   "source": [
    "#11.How does the average billing amount differ by gender?\n",
    "\n",
    "average_billing = data.groupby('Gender')['Billing Amount'].mean().reset_index()\n",
    "print(average_billing)"
   ]
  },
  {
   "cell_type": "code",
   "execution_count": 95,
   "id": "386a6106-ccc7-4ade-a3e8-f7d141dcfdc4",
   "metadata": {},
   "outputs": [
    {
     "name": "stdout",
     "output_type": "stream",
     "text": [
      "  Admission Type  count\n",
      "0       Elective  18655\n",
      "1         Urgent  18576\n",
      "2      Emergency  18269\n"
     ]
    }
   ],
   "source": [
    "#12.What is the distribution of admission types (Emergency, Elective, Urgent)?\n",
    "\n",
    "admission_counts = data['Admission Type'].value_counts().reset_index()\n",
    "print(admission_counts)"
   ]
  },
  {
   "cell_type": "code",
   "execution_count": 96,
   "id": "d907d4f4-3466-4e35-887b-067c04b48842",
   "metadata": {},
   "outputs": [
    {
     "name": "stdout",
     "output_type": "stream",
     "text": [
      "Medical Condition  Arthritis  Asthma  Cancer  Diabetes  Hypertension  Obesity\n",
      "Blood Type                                                                   \n",
      "A+                      1116    1135    1185      1213          1128     1179\n",
      "A-                      1153    1173    1134      1167          1199     1143\n",
      "AB+                     1130    1189    1112      1173          1215     1128\n",
      "AB-                     1192    1134    1198      1139          1125     1157\n",
      "B+                      1201    1108    1196      1188          1103     1149\n",
      "B-                      1169    1119    1144      1151          1173     1188\n",
      "O+                      1198    1173    1108      1151          1157     1130\n",
      "O-                      1149    1154    1150      1122          1145     1157\n"
     ]
    }
   ],
   "source": [
    "#13.What is the relationship between blood type and medical condition?\n",
    "\n",
    "contingency_table = pd.crosstab(data['Blood Type'], data['Medical Condition'])\n",
    "print(contingency_table)"
   ]
  },
  {
   "cell_type": "code",
   "execution_count": 97,
   "id": "21bbf773-3c52-452f-aeba-3f91a2b62558",
   "metadata": {},
   "outputs": [
    {
     "name": "stdout",
     "output_type": "stream",
     "text": [
      "                            Hospital  Billing Amount\n",
      "0                         Abbott Inc    38052.041917\n",
      "1                         Abbott Ltd    29877.586483\n",
      "2         Abbott Moore and Williams,    24799.596339\n",
      "3      Abbott and Thompson, Sullivan    16738.569765\n",
      "4         Abbott, Peters and Hoffman    18842.396863\n",
      "...                              ...             ...\n",
      "39871             and Zimmerman Sons    32706.652625\n",
      "39872      and Zuniga Davis Carlson,    42867.041298\n",
      "39873   and Zuniga Francis Peterson,    33689.630726\n",
      "39874                and Zuniga Sons    33950.170483\n",
      "39875     and Zuniga Thompson, Blake    22067.428763\n",
      "\n",
      "[39876 rows x 2 columns]\n"
     ]
    }
   ],
   "source": [
    "#14.How does the average billing amount differ by hospital?\n",
    "\n",
    "average_billing = data.groupby('Hospital')['Billing Amount'].mean().reset_index()\n",
    "print(average_billing)"
   ]
  },
  {
   "cell_type": "code",
   "execution_count": 98,
   "id": "903c393e-77e2-4d3e-8c63-fa4407ce0827",
   "metadata": {},
   "outputs": [
    {
     "name": "stdout",
     "output_type": "stream",
     "text": [
      "     Room Number  count\n",
      "0            393    181\n",
      "1            491    177\n",
      "2            104    175\n",
      "3            420    175\n",
      "4            209    171\n",
      "..           ...    ...\n",
      "395          253    112\n",
      "396          254    111\n",
      "397          257    111\n",
      "398          381    110\n",
      "399          398    109\n",
      "\n",
      "[400 rows x 2 columns]\n"
     ]
    }
   ],
   "source": [
    "#15.What is the distribution of room numbers among patients?\n",
    "room_counts = data['Room Number'].value_counts().reset_index()\n",
    "print(room_counts)"
   ]
  },
  {
   "cell_type": "code",
   "execution_count": 106,
   "id": "23179c0d-44a9-49c2-8024-9bb671724ea5",
   "metadata": {},
   "outputs": [
    {
     "name": "stdout",
     "output_type": "stream",
     "text": [
      "  Insurance Provider  length_of_stay\n",
      "0              Aetna       15.447448\n",
      "1         Blue Cross       15.522109\n",
      "2              Cigna       15.485910\n",
      "3           Medicare       15.633046\n",
      "4   UnitedHealthcare       15.455371\n"
     ]
    }
   ],
   "source": [
    "#16.How does the average length of stay vary by insurance provider?\n",
    "\n",
    "data['Date of Admission'] = pd.to_datetime(data['Date of Admission'])\n",
    "data['Discharge Date'] = pd.to_datetime(data['Discharge Date'])\n",
    "\n",
    "# Calculate length of stay\n",
    "data['length_of_stay'] = (data['Discharge Date'] - data['Date of Admission']).dt.days\n",
    "\n",
    "condition= data.groupby('Insurance Provider')['length_of_stay'].mean().reset_index()\n",
    "print(condition)"
   ]
  },
  {
   "cell_type": "code",
   "execution_count": 101,
   "id": "dd24463d-757e-44de-a873-b34fc3da1c36",
   "metadata": {},
   "outputs": [
    {
     "name": "stdout",
     "output_type": "stream",
     "text": [
      "   Medical Condition   Medication  Count\n",
      "0          Arthritis      Aspirin   1918\n",
      "1          Arthritis    Ibuprofen   1822\n",
      "2          Arthritis      Lipitor   1825\n",
      "3          Arthritis  Paracetamol   1877\n",
      "4          Arthritis   Penicillin   1866\n",
      "5             Asthma      Aspirin   1802\n",
      "6             Asthma    Ibuprofen   1827\n",
      "7             Asthma      Lipitor   1823\n",
      "8             Asthma  Paracetamol   1888\n",
      "9             Asthma   Penicillin   1845\n",
      "10            Cancer      Aspirin   1786\n",
      "11            Cancer    Ibuprofen   1873\n",
      "12            Cancer      Lipitor   1922\n",
      "13            Cancer  Paracetamol   1853\n",
      "14            Cancer   Penicillin   1793\n",
      "15          Diabetes      Aspirin   1858\n",
      "16          Diabetes    Ibuprofen   1861\n",
      "17          Diabetes      Lipitor   1893\n",
      "18          Diabetes  Paracetamol   1811\n",
      "19          Diabetes   Penicillin   1881\n",
      "20      Hypertension      Aspirin   1865\n",
      "21      Hypertension    Ibuprofen   1893\n",
      "22      Hypertension      Lipitor   1848\n",
      "23      Hypertension  Paracetamol   1849\n",
      "24      Hypertension   Penicillin   1790\n",
      "25           Obesity      Aspirin   1865\n",
      "26           Obesity    Ibuprofen   1851\n",
      "27           Obesity      Lipitor   1829\n",
      "28           Obesity  Paracetamol   1793\n",
      "29           Obesity   Penicillin   1893\n"
     ]
    }
   ],
   "source": [
    "#17.What are the most common combinations of medical conditions and prescribed medications?\n",
    "\n",
    "condition_medication_counts = data.groupby(['Medical Condition', 'Medication']).size().reset_index(name='Count')\n",
    "print(condition_medication_counts)"
   ]
  },
  {
   "cell_type": "code",
   "execution_count": 104,
   "id": "f6922771-e2a9-44fb-9f4f-07592dc6132d",
   "metadata": {},
   "outputs": [
    {
     "data": {
      "image/png": "[encoded data removed]",
      "text/plain": [
       "<Figure size 1200x600 with 1 Axes>"
      ]
     },
     "metadata": {},
     "output_type": "display_data"
    }
   ],
   "source": [
    "#18.How does the distribution of test results vary by gender?\n",
    "\n",
    "\n",
    "plt.figure(figsize=(12, 6))\n",
    "sns.boxplot(x='Gender', y='Test Results', data=data)\n",
    "plt.title('Distribution of Test Results by Gender')\n",
    "plt.xlabel('Gender')\n",
    "plt.ylabel('Test Result')\n",
    "plt.xticks(rotation=45)\n",
    "plt.show()\n"
   ]
  },
  {
   "cell_type": "code",
   "execution_count": 105,
   "id": "463ea6d6-513d-427d-9ab4-3b8d911c2450",
   "metadata": {},
   "outputs": [
    {
     "name": "stdout",
     "output_type": "stream",
     "text": [
      "  Admission Type  Billing Amount\n",
      "0       Elective    25602.226311\n",
      "1      Emergency    25497.397157\n",
      "2         Urgent    25517.364497\n"
     ]
    }
   ],
   "source": [
    "#19.What is the average billing amount for each admission type?\n",
    "\n",
    "average_billing = data.groupby('Admission Type')['Billing Amount'].mean().reset_index()\n",
    "print(average_billing)"
   ]
  },
  {
   "cell_type": "code",
   "execution_count": 107,
   "id": "28b9ca54-12fa-4906-93c0-280b540c85f5",
   "metadata": {},
   "outputs": [
    {
     "name": "stdout",
     "output_type": "stream",
     "text": [
      "  Blood Type  length_of_stay\n",
      "0         A+       15.484186\n",
      "1         A-       15.450854\n",
      "2        AB+       15.632071\n",
      "3        AB-       15.470698\n",
      "4         B+       15.707127\n",
      "5         B-       15.528514\n",
      "6         O+       15.247651\n",
      "7         O-       15.550531\n"
     ]
    }
   ],
   "source": [
    "#20.How does the length of stay vary by blood type?\n",
    "\n",
    "data['Date of Admission'] = pd.to_datetime(data['Date of Admission'])\n",
    "data['Discharge Date'] = pd.to_datetime(data['Discharge Date'])\n",
    "\n",
    "# Calculate length of stay\n",
    "data['length_of_stay'] = (data['Discharge Date'] - data['Date of Admission']).dt.days\n",
    "\n",
    "blood_type= data.groupby('Blood Type')['length_of_stay'].mean().reset_index()\n",
    "print(blood_type)"
   ]
  },
  {
   "cell_type": "code",
   "execution_count": 110,
   "id": "18dddc68-de49-4e93-a2d9-2836d1763643",
   "metadata": {},
   "outputs": [
    {
     "name": "stdout",
     "output_type": "stream",
     "text": [
      "    month  count\n",
      "0       1   4665\n",
      "1       2   4319\n",
      "2       3   4625\n",
      "3       4   4499\n",
      "4       5   4696\n",
      "5       6   4574\n",
      "6       7   4793\n",
      "7       8   4765\n",
      "8       9   4721\n",
      "9      10   4666\n",
      "10     11   4523\n",
      "11     12   4654\n"
     ]
    }
   ],
   "source": [
    "#21.What is the distribution of discharge dates throughout the year?\n",
    "\n",
    "data['Discharge Date'] = pd.to_datetime(data['Discharge Date'])\n",
    "data['month'] = data['Discharge Date'].dt.month\n",
    "data['day'] = data['Discharge Date'].dt.day\n",
    "monthly_distribution = data['month'].value_counts().sort_index().reset_index()\n",
    "print(monthly_distribution)"
   ]
  },
  {
   "cell_type": "code",
   "execution_count": 112,
   "id": "35030159-e88c-4079-8d46-78703153136f",
   "metadata": {},
   "outputs": [
    {
     "name": "stdout",
     "output_type": "stream",
     "text": [
      "   Test Results  Billing Amount\n",
      "0      Abnormal    25538.353552\n",
      "1  Inconclusive    25623.686846\n",
      "2        Normal    25456.647191\n"
     ]
    }
   ],
   "source": [
    "#22.How does the average billing amount differ by test result?\n",
    "\n",
    "average_billing = data.groupby('Test Results')['Billing Amount'].mean().reset_index()\n",
    "print(average_billing)"
   ]
  },
  {
   "cell_type": "code",
   "execution_count": 113,
   "id": "9ddb4584-cb68-4997-913f-df3c29297365",
   "metadata": {},
   "outputs": [
    {
     "name": "stdout",
     "output_type": "stream",
     "text": [
      "   Medical Condition  Test Results  Count\n",
      "0          Arthritis      Abnormal   3188\n",
      "1          Arthritis  Inconclusive   3088\n",
      "2          Arthritis        Normal   3032\n",
      "3             Asthma      Abnormal   3009\n",
      "4             Asthma  Inconclusive   3029\n",
      "5             Asthma        Normal   3147\n",
      "6             Cancer      Abnormal   3118\n",
      "7             Cancer  Inconclusive   3060\n",
      "8             Cancer        Normal   3049\n",
      "9           Diabetes      Abnormal   3168\n",
      "10          Diabetes  Inconclusive   3046\n",
      "11          Diabetes        Normal   3090\n",
      "12      Hypertension      Abnormal   3012\n",
      "13      Hypertension  Inconclusive   3091\n",
      "14      Hypertension        Normal   3142\n",
      "15           Obesity      Abnormal   3132\n",
      "16           Obesity  Inconclusive   3042\n",
      "17           Obesity        Normal   3057\n"
     ]
    }
   ],
   "source": [
    "#23.What are the most common combinations of medical conditions and test results?\n",
    "\n",
    "combination_counts = data.groupby(['Medical Condition', 'Test Results']).size().reset_index(name='Count')\n",
    "print(combination_counts)"
   ]
  },
  {
   "cell_type": "code",
   "execution_count": 114,
   "id": "e8c9abb3-1d4d-4abb-a841-b6dde5514cb4",
   "metadata": {},
   "outputs": [
    {
     "name": "stdout",
     "output_type": "stream",
     "text": [
      "   Gender  length_of_stay\n",
      "0  Female       15.475763\n",
      "1    Male       15.542198\n"
     ]
    }
   ],
   "source": [
    "#24.How does the average length of stay differ by gender?\n",
    "\n",
    "data['Date of Admission'] = pd.to_datetime(data['Date of Admission'])\n",
    "data['Discharge Date'] = pd.to_datetime(data['Discharge Date'])\n",
    "\n",
    "# Calculate length of stay\n",
    "data['length_of_stay'] = (data['Discharge Date'] - data['Date of Admission']).dt.days\n",
    "\n",
    "gender= data.groupby('Gender')['length_of_stay'].mean().reset_index()\n",
    "print(gender)"
   ]
  },
  {
   "cell_type": "code",
   "execution_count": 115,
   "id": "3057dd35-8efc-4533-a098-ec37f225b15e",
   "metadata": {},
   "outputs": [
    {
     "name": "stdout",
     "output_type": "stream",
     "text": [
      "Correlation between Billing Amount and Length of Stay: -0.01\n"
     ]
    }
   ],
   "source": [
    "#25.What is the correlation between billing amount and length of stay?\n",
    "\n",
    "data['Date of Admission'] = pd.to_datetime(data['Date of Admission'])\n",
    "data['Discharge Date'] = pd.to_datetime(data['Discharge Date'])\n",
    "\n",
    "# Calculate length of stay\n",
    "data['length_of_stay'] = (data['Discharge Date'] - data['Date of Admission']).dt.days\n",
    "\n",
    "\n",
    "correlation = data[['Billing Amount', 'length_of_stay']].corr().iloc[0, 1]\n",
    "print(f'Correlation between Billing Amount and Length of Stay: {correlation:.2f}')"
   ]
  },
  {
   "cell_type": "code",
   "execution_count": null,
   "id": "376a1653-3de0-4b13-9198-490be6d49901",
   "metadata": {},
   "outputs": [],
   "source": []
  }
 ],
 "metadata": {
  "kernelspec": {
   "display_name": "Python 3 (ipykernel)",
   "language": "python",
   "name": "python3"
  },
  "language_info": {
   "codemirror_mode": {
    "name": "ipython",
    "version": 3
   },
   "file_extension": ".py",
   "mimetype": "text/x-python",
   "name": "python",
   "nbconvert_exporter": "python",
   "pygments_lexer": "ipython3",
   "version": "3.12.4"
  }
 },
 "nbformat": 4,
 "nbformat_minor": 5
}
